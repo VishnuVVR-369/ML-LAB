{
 "cells": [
  {
   "cell_type": "code",
   "execution_count": 12,
   "metadata": {},
   "outputs": [],
   "source": [
    "import numpy as np"
   ]
  },
  {
   "cell_type": "code",
   "execution_count": 13,
   "metadata": {},
   "outputs": [],
   "source": [
    "X = np.array(([2, 9], [1, 5], [3, 6]), dtype=float)\n",
    "y = np.array(([92], [86], [89]), dtype=float)\n",
    "X = X / np.amax(X,axis=0)\n",
    "y = y/100"
   ]
  },
  {
   "cell_type": "code",
   "execution_count": 14,
   "metadata": {},
   "outputs": [],
   "source": [
    "def sigmoid(x):\n",
    "    return(1/(1 + np.exp(-x)))"
   ]
  },
  {
   "cell_type": "code",
   "execution_count": 15,
   "metadata": {},
   "outputs": [],
   "source": [
    "def derivatives_sigmoid(x):\n",
    "    return(x * (1 - x))"
   ]
  },
  {
   "cell_type": "code",
   "execution_count": 16,
   "metadata": {},
   "outputs": [
    {
     "name": "stdout",
     "output_type": "stream",
     "text": [
      "Input: \n",
      "[[0.66666667 1.        ]\n",
      " [0.33333333 0.55555556]\n",
      " [1.         0.66666667]]\n",
      "Actual Output: \n",
      "[[0.92]\n",
      " [0.86]\n",
      " [0.89]]\n",
      "Predicted Output: \n",
      " [[0.88824191]\n",
      " [0.8698299 ]\n",
      " [0.88487002]]\n"
     ]
    }
   ],
   "source": [
    "epoch = 10000\n",
    "lr = 0.1\n",
    "inputlayer_neurons = 2  \n",
    "hiddenlayer_neurons = 3\n",
    "output_neurons = 1\n",
    "wh = np.random.uniform(size=(inputlayer_neurons,hiddenlayer_neurons)) \n",
    "bh = np.random.uniform(size=(1,hiddenlayer_neurons)) \n",
    "wout = np.random.uniform(size=(hiddenlayer_neurons,output_neurons)) \n",
    "bout = np.random.uniform(size=(1,output_neurons))\n",
    "\n",
    "for i in range(epoch):\n",
    "    hinp1 = np.dot(X,wh) \n",
    "    hinp = hinp1 + bh \n",
    "    hlayer_act = sigmoid(hinp)\n",
    "    outinp1 = np.dot(hlayer_act,wout) \n",
    "    outinp = outinp1+ bout\n",
    "    output = sigmoid(outinp)\n",
    "EO = y-output\n",
    "outgrad = derivatives_sigmoid(output) \n",
    "d_output = EO* outgrad\n",
    "EH = d_output.dot(wout.T)\n",
    "hiddengrad = derivatives_sigmoid(hlayer_act)\n",
    "d_hiddenlayer = EH * hiddengrad\n",
    "wout += hlayer_act.T.dot(d_output) * lr\n",
    "bout += np.sum(d_output, axis=0,keepdims=True) * lr \n",
    "wh += X.T.dot(d_hiddenlayer) * lr\n",
    "bh += np.sum(d_hiddenlayer, axis=0,keepdims=True) * lr \n",
    "print(\"Input: \\n\" + str(X))\n",
    "print(\"Actual Output: \\n\" + str(y)) \n",
    "print(\"Predicted Output: \\n\" ,output)"
   ]
  },
  {
   "cell_type": "code",
   "execution_count": null,
   "metadata": {},
   "outputs": [],
   "source": []
  }
 ],
 "metadata": {
  "kernelspec": {
   "display_name": "Python 3.9.5 64-bit",
   "language": "python",
   "name": "python3"
  },
  "language_info": {
   "codemirror_mode": {
    "name": "ipython",
    "version": 3
   },
   "file_extension": ".py",
   "mimetype": "text/x-python",
   "name": "python",
   "nbconvert_exporter": "python",
   "pygments_lexer": "ipython3",
   "version": "3.9.5"
  },
  "orig_nbformat": 4,
  "vscode": {
   "interpreter": {
    "hash": "666cc40e7ce6d31c1437a93e07d5e72f3187b89406f08fe2ceec683eb8bf1832"
   }
  }
 },
 "nbformat": 4,
 "nbformat_minor": 2
}
