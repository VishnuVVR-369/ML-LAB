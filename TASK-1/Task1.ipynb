{
 "cells": [
  {
   "cell_type": "code",
   "execution_count": 1,
   "metadata": {},
   "outputs": [],
   "source": [
    "import pandas as pd"
   ]
  },
  {
   "cell_type": "code",
   "execution_count": 3,
   "metadata": {},
   "outputs": [
    {
     "name": "stdout",
     "output_type": "stream",
     "text": [
      "      buying  maint  doors  persons  lug_boot  safety   class\n",
      "0     buying  maint  doors  persons  lug_boot  safety  rating\n",
      "1      vhigh  vhigh      2        2     small     low   unacc\n",
      "2      vhigh  vhigh      2        2     small     med   unacc\n",
      "3      vhigh  vhigh      2        2     small    high   unacc\n",
      "4      vhigh  vhigh      2        2       med     low   unacc\n",
      "...      ...    ...    ...      ...       ...     ...     ...\n",
      "1724     low    low  5more     more       med     med    good\n",
      "1725     low    low  5more     more       med    high   vgood\n",
      "1726     low    low  5more     more       big     low   unacc\n",
      "1727     low    low  5more     more       big     med    good\n",
      "1728     low    low  5more     more       big    high   vgood\n",
      "\n",
      "[1729 rows x 7 columns]\n"
     ]
    }
   ],
   "source": [
    "data = pd.read_csv(r'C:\\Users\\pravin\\Desktop\\ML-LAB\\car.csv',names=['buying','maint','doors','persons','lug_boot','safety','class'])\n",
    "print(data)"
   ]
  },
  {
   "cell_type": "code",
   "execution_count": 5,
   "metadata": {},
   "outputs": [],
   "source": [
    "Cars = {'Brand': ['Honda Civic','Toyota Corolla','Ford Focus','Audi A4'],\n",
    "        'Price': [32000,35000,37000,45000]\n",
    "}\n",
    "df = pd.DataFrame(Cars, columns= ['Brand', 'Price'])\n",
    "export_excel = df.to_excel (r'C:\\Users\\pravin\\Desktop\\ML-LAB\\export.xlsx', index = None, header=True)"
   ]
  }
 ],
 "metadata": {
  "kernelspec": {
   "display_name": "Python 3.9.5 64-bit",
   "language": "python",
   "name": "python3"
  },
  "language_info": {
   "codemirror_mode": {
    "name": "ipython",
    "version": 3
   },
   "file_extension": ".py",
   "mimetype": "text/x-python",
   "name": "python",
   "nbconvert_exporter": "python",
   "pygments_lexer": "ipython3",
   "version": "3.9.5"
  },
  "orig_nbformat": 4,
  "vscode": {
   "interpreter": {
    "hash": "666cc40e7ce6d31c1437a93e07d5e72f3187b89406f08fe2ceec683eb8bf1832"
   }
  }
 },
 "nbformat": 4,
 "nbformat_minor": 2
}
